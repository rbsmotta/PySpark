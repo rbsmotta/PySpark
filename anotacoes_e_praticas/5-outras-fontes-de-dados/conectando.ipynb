{
 "cells": [
  {
   "cell_type": "markdown",
   "metadata": {},
   "source": [
    "# Outras fontes de dados\n",
    "\n",
    "- Com o Spark, podemos conectar com outras fontes de dados;\n",
    "- Tratar os dados como Dataframe;\n",
    "- Persistir como Tabela;\n",
    "- Também é possível Gravar Dados em outras fontes\n",
    "\n",
    "## Extraindo Dados do PostgreSQL\n",
    "### Etapas\n",
    "\n",
    "- Instalar\n",
    "- Criar banco de dados Vendas\n",
    "- Configurar acesso\n",
    "- Baixar o driver JDBC\n",
    "- Usar o Pyspark para ler, transformar e gravar dados no Postgre\n",
    "\n",
    "### Criando banco de dados\n",
    "\n",
    "**_sudo -u postgres psql_** para iniciar o PostgreSQL pelo terminal;\n",
    "\n",
    "**_create database vendas;_** para criar o banco de dados que utilizaremos;\n",
    "\n",
    "caso queira visualizar databases; **_\\l_**\n",
    "\n",
    "**_\\c vendas;_** para usar a database vendas;\n",
    "\n",
    "#### Executando cripts\n",
    "\n",
    "**_\\i (path do arquivo.sql do script)_**\n",
    "\n",
    "### Leitura e gravação de dados no PostgreSQL\n",
    "\n",
    "- Abrimos um terminal\n",
    "\n",
    "- Na pasta onde se encontra o arquivo .jar do driver JDBC (Downloads), chamamos p Pyspark passando como parâmetro o driver para conectar no Postgres\n",
    "\n",
    "**_pyspark --jars postgresql-42.3.6.jar_**\n",
    "\n",
    "- Importamos a SparkSession\n",
    "\n",
    "**_from pyspark.sql import SparkSession_**\n",
    "\n",
    "- Fazemos a leitura, atribuindo à uma variável\n",
    "\n",
    "**_resumo = spark.read.format(\"jdbc\").option(\"url\",\"jdbc:postgresql://localhost:5432/vendas\").option(\"dbtable\",\"Vendas\").option(\"user\",\"<nome-do-usuario>\").option(\"password\",\"<password>\").option(\"driver\",\"org.postgresql.Driver\").load()_**\n",
    "\n",
    "Para visualizarmos:\n",
    "**_resumo.show()_**\n",
    "\n",
    "### Gravando no Postgres\n",
    "\n",
    "**_vendadata = resumo.select(\"data,\"total\")_**\n",
    "\n",
    "**_vendadata.write.format(\"jdbc\").option(\"url\",\"jdbc:postgresql://localhost:5432/vendas\").option(\"dbtable\",\"vendadata\").option(\"user\",\"<nome-do-usuario>\").option(\"password\",\"<password>\").option(\"driver\",\"org.postgresql.Driver\").save()_**\n",
    "\n"
   ]
  }
 ],
 "metadata": {
  "interpreter": {
   "hash": "916dbcbb3f70747c44a77c7bcd40155683ae19c65e1c03b4aa3499c5328201f1"
  },
  "kernelspec": {
   "display_name": "Python 3.10.4 64-bit",
   "language": "python",
   "name": "python3"
  },
  "language_info": {
   "codemirror_mode": {
    "name": "ipython",
    "version": 3
   },
   "file_extension": ".py",
   "mimetype": "text/x-python",
   "name": "python",
   "nbconvert_exporter": "python",
   "pygments_lexer": "ipython3",
   "version": "3.10.4"
  },
  "orig_nbformat": 4
 },
 "nbformat": 4,
 "nbformat_minor": 2
}
